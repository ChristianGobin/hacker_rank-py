{
 "cells": [
  {
   "cell_type": "code",
   "execution_count": 3,
   "id": "f15bb1e5",
   "metadata": {},
   "outputs": [],
   "source": [
    "import pandas as pd\n",
    "import numpy as np"
   ]
  },
  {
   "cell_type": "code",
   "execution_count": 4,
   "id": "c1a9327f",
   "metadata": {},
   "outputs": [],
   "source": [
    "index = pd.date_range(\"1/1/2000\", periods=8)\n",
    "s = pd.Series(np.random.randn(5), index=[\"a\", \"b\", \"c\", \"d\", \"e\"])\n",
    "df = pd.DataFrame(np.random.randn(8, 3), index=index, columns=[\"A\", \"B\", \"C\"])"
   ]
  },
  {
   "cell_type": "code",
   "execution_count": 5,
   "id": "760a31e4",
   "metadata": {},
   "outputs": [
    {
     "name": "stdout",
     "output_type": "stream",
     "text": [
      "a    0.287826\n",
      "b    0.243398\n",
      "c   -1.386118\n",
      "d    0.686826\n",
      "e   -0.117568\n",
      "dtype: float64\n"
     ]
    }
   ],
   "source": [
    "print(s)"
   ]
  },
  {
   "cell_type": "code",
   "execution_count": 6,
   "id": "9c6cc390",
   "metadata": {},
   "outputs": [
    {
     "name": "stdout",
     "output_type": "stream",
     "text": [
      "                   A         B         C\n",
      "2000-01-01 -0.165640  1.111478 -0.141596\n",
      "2000-01-02 -2.174685 -0.290154  0.205420\n",
      "2000-01-03  0.222692 -0.762914 -0.625114\n",
      "2000-01-04 -0.586727 -2.228241  1.211948\n",
      "2000-01-05 -0.376388 -0.630382 -0.880511\n",
      "2000-01-06 -1.378328  0.611617 -1.247894\n",
      "2000-01-07  0.631020 -0.519507  1.297628\n",
      "2000-01-08 -0.139568 -1.224055 -0.772736\n"
     ]
    }
   ],
   "source": [
    "print(df)"
   ]
  },
  {
   "cell_type": "code",
   "execution_count": null,
   "id": "9a14000e",
   "metadata": {},
   "outputs": [],
   "source": [
    "print(index)"
   ]
  }
 ],
 "metadata": {
  "kernelspec": {
   "display_name": "Python 3 (ipykernel)",
   "language": "python",
   "name": "python3"
  },
  "language_info": {
   "codemirror_mode": {
    "name": "ipython",
    "version": 3
   },
   "file_extension": ".py",
   "mimetype": "text/x-python",
   "name": "python",
   "nbconvert_exporter": "python",
   "pygments_lexer": "ipython3",
   "version": "3.11.4"
  }
 },
 "nbformat": 4,
 "nbformat_minor": 5
}
